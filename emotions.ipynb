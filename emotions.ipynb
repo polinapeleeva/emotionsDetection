{
  "nbformat": 4,
  "nbformat_minor": 0,
  "metadata": {
    "colab": {
      "provenance": []
    },
    "kernelspec": {
      "name": "python3",
      "display_name": "Python 3"
    },
    "language_info": {
      "name": "python"
    }
  },
  "cells": [
    {
      "cell_type": "code",
      "source": [
        "BATCH_SIZE = 32\n",
        "IMAGE_SIZE = 64\n",
        "EPOCHS = 10"
      ],
      "metadata": {
        "id": "HVe1CdDDxUXJ"
      },
      "execution_count": 1,
      "outputs": []
    },
    {
      "cell_type": "markdown",
      "source": [
        "## Загрузка данных"
      ],
      "metadata": {
        "id": "Y7SzZLfvtBux"
      }
    },
    {
      "cell_type": "code",
      "source": [
        "from google.colab import drive\n",
        "from pathlib import Path\n",
        "\n",
        "\n",
        "drive.mount('/content/drive/')\n",
        "\n",
        "path = Path(\"/content/drive/My Drive/Skillbox/emotions\")\n",
        "path.mkdir(exist_ok=True, parents=True)\n",
        "assert path.exists()"
      ],
      "metadata": {
        "colab": {
          "base_uri": "https://localhost:8080/"
        },
        "id": "vmvuW5uZmj7x",
        "outputId": "fae70f40-067f-4b2e-b7c9-30ff46f275d9"
      },
      "execution_count": 2,
      "outputs": [
        {
          "output_type": "stream",
          "name": "stdout",
          "text": [
            "Mounted at /content/drive/\n"
          ]
        }
      ]
    },
    {
      "cell_type": "code",
      "source": [
        "import zipfile\n",
        "\n",
        "with zipfile.ZipFile(\"/content/drive/My Drive/Skillbox/emotions/train.zip\", 'r') as zip_ref:\n",
        "    zip_ref.extractall(\"/content\")\n",
        "\n",
        "with zipfile.ZipFile(\"/content/drive/My Drive/Skillbox/emotions/test_kaggle.zip\", 'r') as zip_ref:\n",
        "    zip_ref.extractall(\"/content\")"
      ],
      "metadata": {
        "id": "uKBAO_5JoAj1"
      },
      "execution_count": 3,
      "outputs": []
    },
    {
      "cell_type": "code",
      "source": [
        "import os\n",
        "import shutil\n",
        "\n",
        "\n",
        "folder_path = \"/content/train\"\n",
        "\n",
        "# Создание подпапок для тренировочного и тестового наборов данных\n",
        "train_folder = '/content/train_data'\n",
        "test_folder = '/content/test_data'\n",
        "\n",
        "os.makedirs(train_folder, exist_ok=True)\n",
        "os.makedirs(test_folder, exist_ok=True)\n",
        "\n",
        "\n",
        "# Получение списка подпапок в исходной папке\n",
        "subfolders = os.listdir(folder_path)\n",
        "\n",
        "# Разделение каждой подпапки на тренировочный и тестовый наборы данных\n",
        "for subfolder in subfolders:\n",
        "    subfolder_path = os.path.join(folder_path, subfolder)\n",
        "    subfolder_train_path = os.path.join(train_folder, subfolder)\n",
        "    subfolder_test_path = os.path.join(test_folder, subfolder)\n",
        "\n",
        "    os.makedirs(subfolder_train_path, exist_ok=True)\n",
        "    os.makedirs(subfolder_test_path, exist_ok=True)\n",
        "\n",
        "    # Получение списка файлов в текущей подпапке\n",
        "    files = os.listdir(subfolder_path)\n",
        "    # Разделение файлов на тренировочный и тестовый наборы данных\n",
        "    num_train_files = int(0.75 * len(files))  # 75% для тренировочного набора\n",
        "    train_files = files[:num_train_files]\n",
        "    test_files = files[num_train_files:]\n",
        "\n",
        "    # Копирование файлов в соответствующие подпапки\n",
        "    for file in train_files:\n",
        "        shutil.copy(os.path.join(subfolder_path, file), os.path.join(subfolder_train_path, file))\n",
        "\n",
        "    for file in test_files:\n",
        "        shutil.copy(os.path.join(subfolder_path, file), os.path.join(subfolder_test_path, file))\n"
      ],
      "metadata": {
        "id": "lQWSOxbz9rPV"
      },
      "execution_count": 4,
      "outputs": []
    },
    {
      "cell_type": "markdown",
      "source": [
        "## Формирование датагенераторов"
      ],
      "metadata": {
        "id": "0lujAHVdtJHI"
      }
    },
    {
      "cell_type": "code",
      "source": [
        "import tensorflow as tf\n",
        "from tensorflow.keras.preprocessing.image import ImageDataGenerator\n",
        "\n",
        "\n",
        "train_folder_path = '/content/train_data'\n",
        "test_folder_path = '/content/test_data'\n",
        "\n",
        "# Создание генераторов изображений для обучения и тестирования\n",
        "train_datagen = ImageDataGenerator(rescale=1./255,)\n",
        "test_datagen = ImageDataGenerator(rescale=1./255,)\n",
        "\n",
        "common = {\n",
        "    'batch_size': BATCH_SIZE,\n",
        "    'target_size': (IMAGE_SIZE, IMAGE_SIZE),\n",
        "    'class_mode': \"categorical\",\n",
        "}\n",
        "\n",
        "train_image_generator = train_datagen.flow_from_directory(\n",
        "    train_folder_path, shuffle=True, **common)\n",
        "\n",
        "test_image_generator = test_datagen.flow_from_directory(\n",
        "    test_folder_path, shuffle=True, **common)"
      ],
      "metadata": {
        "colab": {
          "base_uri": "https://localhost:8080/"
        },
        "id": "IXJCJVeZATD1",
        "outputId": "c3c7b18c-10ad-46f9-e669-68b195b112cb"
      },
      "execution_count": 5,
      "outputs": [
        {
          "output_type": "stream",
          "name": "stdout",
          "text": [
            "Found 37533 images belonging to 9 classes.\n",
            "Found 12514 images belonging to 9 classes.\n"
          ]
        }
      ]
    },
    {
      "cell_type": "code",
      "source": [
        "import numpy as np\n",
        "\n",
        "sample_images, sample_labels = next(train_image_generator)\n",
        "assert sample_images.shape == (BATCH_SIZE, IMAGE_SIZE, IMAGE_SIZE, 3), \"Неправильный размер батча\"\n",
        "assert sample_labels.shape == (BATCH_SIZE, 9), \"Неправильный размер меток класса\"\n",
        "assert list(sorted(np.unique(sample_labels))) == [0., 1.], \"Ожидаемые классы 0 и 1\"\n",
        "print(\"Simple tests passed\")"
      ],
      "metadata": {
        "colab": {
          "base_uri": "https://localhost:8080/"
        },
        "id": "zSexG2lF8jZ6",
        "outputId": "bd0febd2-51a7-49e1-cfba-fe84e8e013f3"
      },
      "execution_count": 6,
      "outputs": [
        {
          "output_type": "stream",
          "name": "stdout",
          "text": [
            "Simple tests passed\n"
          ]
        }
      ]
    },
    {
      "cell_type": "markdown",
      "source": [
        "## Настройка колбеков и обучение модели"
      ],
      "metadata": {
        "id": "olHC2eBXtP5c"
      }
    },
    {
      "cell_type": "code",
      "source": [
        "from tensorflow.keras.callbacks import EarlyStopping\n",
        "\n",
        "# КОЛБЕКИ\n",
        "cpt_filename = \"best_cpt_first_model.hdf5\"\n",
        "cpt_path =str(path / cpt_filename)\n",
        "\n",
        "early_stopping_callback = EarlyStopping(monitor='val_accuracy', patience=5)\n",
        "\n",
        "checkpoint = tf.keras.callbacks.ModelCheckpoint(cpt_path,\n",
        "                                                monitor='val_accuracy',\n",
        "                                                verbose=1,\n",
        "                                                save_best_only=True,\n",
        "                                                mode='max')"
      ],
      "metadata": {
        "id": "H_Wuom2U8jeT"
      },
      "execution_count": 9,
      "outputs": []
    },
    {
      "cell_type": "code",
      "source": [
        "from tensorflow.keras.layers import Conv2D, MaxPooling2D, Flatten, Dense, Dropout, BatchNormalization\n",
        "from tensorflow.keras.models import Sequential\n",
        "\n",
        "\n",
        "def make_model():\n",
        "    \"\"\"Создание экземпляра модели\"\"\"\n",
        "    model = Sequential()\n",
        "\n",
        "    model.add(BatchNormalization(input_shape=(IMAGE_SIZE, IMAGE_SIZE, 3)))\n",
        "\n",
        "    model.add(BatchNormalization())\n",
        "    model.add(Conv2D(128, (3, 3), padding='same', activation='relu'))\n",
        "    model.add(BatchNormalization())\n",
        "    model.add(Conv2D(128, (3, 3), padding='same', activation='relu'))\n",
        "    model.add(MaxPooling2D(2))\n",
        "    model.add(Dropout(0.25))\n",
        "\n",
        "    model.add(BatchNormalization())\n",
        "    model.add(Conv2D(64, (3, 3), padding='same', activation='relu'))\n",
        "    model.add(BatchNormalization())\n",
        "    model.add(Conv2D(64, (3, 3), padding='same', activation='relu'))\n",
        "    model.add(MaxPooling2D(2))\n",
        "    model.add(Dropout(0.25))\n",
        "\n",
        "    model.add(Flatten())\n",
        "    model.add(BatchNormalization())\n",
        "    model.add(Dense(512, activation='relu'))\n",
        "    model.add(Dense(256, activation='relu'))\n",
        "    model.add(Dropout(0.25))\n",
        "    model.add(Dense(9, activation='softmax'))\n",
        "\n",
        "    return model"
      ],
      "metadata": {
        "id": "TQsnmi7cVuWY"
      },
      "execution_count": null,
      "outputs": []
    },
    {
      "cell_type": "code",
      "source": [
        "model = make_model()"
      ],
      "metadata": {
        "id": "s940wxNzzVxF"
      },
      "execution_count": null,
      "outputs": []
    },
    {
      "cell_type": "code",
      "source": [
        "# Компиляция модели\n",
        "model.compile(\n",
        "    optimizer='adam',\n",
        "    loss='categorical_crossentropy',\n",
        "    metrics=['accuracy'])\n",
        "\n",
        "# Вывод структуры модели\n",
        "model.summary()"
      ],
      "metadata": {
        "colab": {
          "base_uri": "https://localhost:8080/"
        },
        "id": "N_3bL7AHEOjq",
        "outputId": "b1d55a68-0c12-40de-adb0-16a58efbcd44"
      },
      "execution_count": null,
      "outputs": [
        {
          "output_type": "stream",
          "name": "stdout",
          "text": [
            "Model: \"sequential_3\"\n",
            "_________________________________________________________________\n",
            " Layer (type)                Output Shape              Param #   \n",
            "=================================================================\n",
            " batch_normalization_8 (Bat  (None, 64, 64, 3)         12        \n",
            " chNormalization)                                                \n",
            "                                                                 \n",
            " batch_normalization_9 (Bat  (None, 64, 64, 3)         12        \n",
            " chNormalization)                                                \n",
            "                                                                 \n",
            " conv2d_5 (Conv2D)           (None, 64, 64, 128)       3584      \n",
            "                                                                 \n",
            " batch_normalization_10 (Ba  (None, 64, 64, 128)       512       \n",
            " tchNormalization)                                               \n",
            "                                                                 \n",
            " conv2d_6 (Conv2D)           (None, 64, 64, 128)       147584    \n",
            "                                                                 \n",
            " max_pooling2d_1 (MaxPoolin  (None, 32, 32, 128)       0         \n",
            " g2D)                                                            \n",
            "                                                                 \n",
            " dropout_1 (Dropout)         (None, 32, 32, 128)       0         \n",
            "                                                                 \n",
            " batch_normalization_11 (Ba  (None, 32, 32, 128)       512       \n",
            " tchNormalization)                                               \n",
            "                                                                 \n",
            " conv2d_7 (Conv2D)           (None, 32, 32, 64)        73792     \n",
            "                                                                 \n",
            " batch_normalization_12 (Ba  (None, 32, 32, 64)        256       \n",
            " tchNormalization)                                               \n",
            "                                                                 \n",
            " conv2d_8 (Conv2D)           (None, 32, 32, 64)        36928     \n",
            "                                                                 \n",
            " max_pooling2d_2 (MaxPoolin  (None, 16, 16, 64)        0         \n",
            " g2D)                                                            \n",
            "                                                                 \n",
            " dropout_2 (Dropout)         (None, 16, 16, 64)        0         \n",
            "                                                                 \n",
            " flatten (Flatten)           (None, 16384)             0         \n",
            "                                                                 \n",
            " batch_normalization_13 (Ba  (None, 16384)             65536     \n",
            " tchNormalization)                                               \n",
            "                                                                 \n",
            " dense (Dense)               (None, 512)               8389120   \n",
            "                                                                 \n",
            " dense_1 (Dense)             (None, 256)               131328    \n",
            "                                                                 \n",
            " dropout_3 (Dropout)         (None, 256)               0         \n",
            "                                                                 \n",
            " dense_2 (Dense)             (None, 9)                 2313      \n",
            "                                                                 \n",
            "=================================================================\n",
            "Total params: 8851489 (33.77 MB)\n",
            "Trainable params: 8818069 (33.64 MB)\n",
            "Non-trainable params: 33420 (130.55 KB)\n",
            "_________________________________________________________________\n"
          ]
        }
      ]
    },
    {
      "cell_type": "code",
      "source": [
        "!pip install livelossplot"
      ],
      "metadata": {
        "colab": {
          "base_uri": "https://localhost:8080/"
        },
        "id": "PKGnImwAd3C5",
        "outputId": "7b0d34e4-39b9-4d8d-bbf2-1a6117c23ec0"
      },
      "execution_count": 10,
      "outputs": [
        {
          "output_type": "stream",
          "name": "stdout",
          "text": [
            "Collecting livelossplot\n",
            "  Downloading livelossplot-0.5.5-py3-none-any.whl (22 kB)\n",
            "Requirement already satisfied: matplotlib in /usr/local/lib/python3.10/dist-packages (from livelossplot) (3.7.1)\n",
            "Requirement already satisfied: bokeh in /usr/local/lib/python3.10/dist-packages (from livelossplot) (3.3.4)\n",
            "Requirement already satisfied: Jinja2>=2.9 in /usr/local/lib/python3.10/dist-packages (from bokeh->livelossplot) (3.1.4)\n",
            "Requirement already satisfied: contourpy>=1 in /usr/local/lib/python3.10/dist-packages (from bokeh->livelossplot) (1.2.1)\n",
            "Requirement already satisfied: numpy>=1.16 in /usr/local/lib/python3.10/dist-packages (from bokeh->livelossplot) (1.25.2)\n",
            "Requirement already satisfied: packaging>=16.8 in /usr/local/lib/python3.10/dist-packages (from bokeh->livelossplot) (24.1)\n",
            "Requirement already satisfied: pandas>=1.2 in /usr/local/lib/python3.10/dist-packages (from bokeh->livelossplot) (2.0.3)\n",
            "Requirement already satisfied: pillow>=7.1.0 in /usr/local/lib/python3.10/dist-packages (from bokeh->livelossplot) (9.4.0)\n",
            "Requirement already satisfied: PyYAML>=3.10 in /usr/local/lib/python3.10/dist-packages (from bokeh->livelossplot) (6.0.1)\n",
            "Requirement already satisfied: tornado>=5.1 in /usr/local/lib/python3.10/dist-packages (from bokeh->livelossplot) (6.3.3)\n",
            "Requirement already satisfied: xyzservices>=2021.09.1 in /usr/local/lib/python3.10/dist-packages (from bokeh->livelossplot) (2024.6.0)\n",
            "Requirement already satisfied: cycler>=0.10 in /usr/local/lib/python3.10/dist-packages (from matplotlib->livelossplot) (0.12.1)\n",
            "Requirement already satisfied: fonttools>=4.22.0 in /usr/local/lib/python3.10/dist-packages (from matplotlib->livelossplot) (4.53.0)\n",
            "Requirement already satisfied: kiwisolver>=1.0.1 in /usr/local/lib/python3.10/dist-packages (from matplotlib->livelossplot) (1.4.5)\n",
            "Requirement already satisfied: pyparsing>=2.3.1 in /usr/local/lib/python3.10/dist-packages (from matplotlib->livelossplot) (3.1.2)\n",
            "Requirement already satisfied: python-dateutil>=2.7 in /usr/local/lib/python3.10/dist-packages (from matplotlib->livelossplot) (2.8.2)\n",
            "Requirement already satisfied: MarkupSafe>=2.0 in /usr/local/lib/python3.10/dist-packages (from Jinja2>=2.9->bokeh->livelossplot) (2.1.5)\n",
            "Requirement already satisfied: pytz>=2020.1 in /usr/local/lib/python3.10/dist-packages (from pandas>=1.2->bokeh->livelossplot) (2023.4)\n",
            "Requirement already satisfied: tzdata>=2022.1 in /usr/local/lib/python3.10/dist-packages (from pandas>=1.2->bokeh->livelossplot) (2024.1)\n",
            "Requirement already satisfied: six>=1.5 in /usr/local/lib/python3.10/dist-packages (from python-dateutil>=2.7->matplotlib->livelossplot) (1.16.0)\n",
            "Installing collected packages: livelossplot\n",
            "Successfully installed livelossplot-0.5.5\n"
          ]
        }
      ]
    },
    {
      "cell_type": "code",
      "source": [
        "from livelossplot.tf_keras import PlotLossesCallback\n",
        "\n",
        "# EPOCHS = 7\n",
        "history = model.fit_generator(\n",
        "    train_image_generator,\n",
        "    epochs=EPOCHS,\n",
        "    validation_data=test_image_generator,\n",
        "    callbacks=[PlotLossesCallback(), checkpoint, early_stopping_callback])"
      ],
      "metadata": {
        "colab": {
          "base_uri": "https://localhost:8080/",
          "height": 963
        },
        "id": "jdNSxe4PEOmF",
        "outputId": "d8cbf249-c9b6-4ab7-970f-862cc105dd45"
      },
      "execution_count": null,
      "outputs": [
        {
          "output_type": "display_data",
          "data": {
            "text/plain": [
              "<Figure size 1200x800 with 2 Axes>"
            ],
            "image/png": "[encoded data removed]"
          },
          "metadata": {}
        },
        {
          "output_type": "stream",
          "name": "stdout",
          "text": [
            "accuracy\n",
            "\ttraining         \t (min:    0.201, max:    0.731, cur:    0.731)\n",
            "\tvalidation       \t (min:    0.284, max:    0.405, cur:    0.394)\n",
            "Loss\n",
            "\ttraining         \t (min:    0.776, max:    2.100, cur:    0.776)\n",
            "\tvalidation       \t (min:    1.694, max:    2.346, cur:    2.346)\n",
            "\n",
            "Epoch 11: val_accuracy did not improve from 0.40531\n",
            "1173/1173 [==============================] - 163s 139ms/step - loss: 0.7764 - accuracy: 0.7305 - val_loss: 2.3459 - val_accuracy: 0.3936\n"
          ]
        }
      ]
    },
    {
      "cell_type": "markdown",
      "source": [
        "Примерно с 5 эпохи пошло переобучение. Возможно стоило бы добавить регуляризацию, увеличить процент дропаута, добавить аугментацию данных. Максимальная точность порядка 40%, попытаемся это улучшить в следующем ноутбуке."
      ],
      "metadata": {
        "id": "QVfMbznzsKiC"
      }
    },
    {
      "cell_type": "markdown",
      "source": [
        "## Попытка использования аугментации"
      ],
      "metadata": {
        "id": "WdVTdtiTI2x9"
      }
    },
    {
      "cell_type": "code",
      "source": [
        "# Аугментация данных\n",
        "train_datagen_aug = ImageDataGenerator(\n",
        "    rescale=1./255,\n",
        "    # rotation_range=40,\n",
        "    # width_shift_range=0.2,    слишком долго\n",
        "    # height_shift_range=0.2,\n",
        "    # shear_range=0.2,\n",
        "    zoom_range=0.2,\n",
        "    horizontal_flip=True,\n",
        "    fill_mode='nearest'\n",
        ")\n",
        "\n",
        "# common = {\n",
        "#     'batch_size': BATCH_SIZE,\n",
        "#     'target_size': (IMAGE_SIZE, IMAGE_SIZE),\n",
        "#     'class_mode': \"categorical\",\n",
        "# }\n",
        "\n",
        "train_image_generator_aug = train_datagen_aug.flow_from_directory(\n",
        "    train_folder_path, shuffle=True, **common)"
      ],
      "metadata": {
        "colab": {
          "base_uri": "https://localhost:8080/"
        },
        "id": "p8mvryigxKt9",
        "outputId": "f9de848b-1b55-4673-c18f-3af21540f522"
      },
      "execution_count": null,
      "outputs": [
        {
          "output_type": "stream",
          "name": "stdout",
          "text": [
            "Found 37533 images belonging to 9 classes.\n"
          ]
        }
      ]
    },
    {
      "cell_type": "code",
      "source": [
        "sample_images, sample_labels = next(train_image_generator_aug)\n",
        "assert sample_images.shape == (BATCH_SIZE, IMAGE_SIZE, IMAGE_SIZE, 3), \"Неправильный размер батча\"\n",
        "assert sample_labels.shape == (BATCH_SIZE, 9), \"Неправильный размер меток класса\"\n",
        "assert list(sorted(np.unique(sample_labels))) == [0., 1.], \"Ожидаемые классы 0 и 1\"\n",
        "print(\"Simple tests passed\")"
      ],
      "metadata": {
        "colab": {
          "base_uri": "https://localhost:8080/"
        },
        "id": "-v8vfmLgwm09",
        "outputId": "e2ee12f9-db4c-4615-e8c3-91c0748b0bda"
      },
      "execution_count": null,
      "outputs": [
        {
          "output_type": "stream",
          "name": "stdout",
          "text": [
            "Simple tests passed\n"
          ]
        }
      ]
    },
    {
      "cell_type": "code",
      "source": [
        "# КОЛБЕКИ 2\n",
        "cpt_filename_aug = \"best_cpt_first_model_aug.hdf5\"\n",
        "cpt_path_aug = str(path / cpt_filename_aug)\n",
        "\n",
        "# early_stopping_callback = EarlyStopping(monitor='val_accuracy', patience=5)\n",
        "\n",
        "checkpoint_aug = tf.keras.callbacks.ModelCheckpoint(cpt_path_aug,\n",
        "                                                monitor='val_accuracy',\n",
        "                                                verbose=1,\n",
        "                                                save_best_only=True,\n",
        "                                                mode='max')"
      ],
      "metadata": {
        "id": "6IFU7j1dwm4U"
      },
      "execution_count": null,
      "outputs": []
    },
    {
      "cell_type": "code",
      "source": [
        "model_aug = make_model()"
      ],
      "metadata": {
        "id": "XomHCq5jwm8s"
      },
      "execution_count": null,
      "outputs": []
    },
    {
      "cell_type": "code",
      "source": [
        "# Компиляция модели\n",
        "model_aug.compile(\n",
        "    optimizer='adam',\n",
        "    loss='categorical_crossentropy',\n",
        "    metrics=['accuracy'])\n",
        "\n",
        "# Вывод структуры модели\n",
        "model_aug.summary()"
      ],
      "metadata": {
        "colab": {
          "base_uri": "https://localhost:8080/"
        },
        "id": "TANBy-SIy7uM",
        "outputId": "863e82d3-5c34-4382-f0a7-6ae0830955dc"
      },
      "execution_count": null,
      "outputs": [
        {
          "output_type": "stream",
          "name": "stdout",
          "text": [
            "Model: \"sequential_1\"\n",
            "_________________________________________________________________\n",
            " Layer (type)                Output Shape              Param #   \n",
            "=================================================================\n",
            " batch_normalization_6 (Bat  (None, 64, 64, 3)         12        \n",
            " chNormalization)                                                \n",
            "                                                                 \n",
            " batch_normalization_7 (Bat  (None, 64, 64, 3)         12        \n",
            " chNormalization)                                                \n",
            "                                                                 \n",
            " conv2d_4 (Conv2D)           (None, 64, 64, 128)       3584      \n",
            "                                                                 \n",
            " batch_normalization_8 (Bat  (None, 64, 64, 128)       512       \n",
            " chNormalization)                                                \n",
            "                                                                 \n",
            " conv2d_5 (Conv2D)           (None, 64, 64, 128)       147584    \n",
            "                                                                 \n",
            " max_pooling2d_2 (MaxPoolin  (None, 32, 32, 128)       0         \n",
            " g2D)                                                            \n",
            "                                                                 \n",
            " dropout_3 (Dropout)         (None, 32, 32, 128)       0         \n",
            "                                                                 \n",
            " batch_normalization_9 (Bat  (None, 32, 32, 128)       512       \n",
            " chNormalization)                                                \n",
            "                                                                 \n",
            " conv2d_6 (Conv2D)           (None, 32, 32, 64)        73792     \n",
            "                                                                 \n",
            " batch_normalization_10 (Ba  (None, 32, 32, 64)        256       \n",
            " tchNormalization)                                               \n",
            "                                                                 \n",
            " conv2d_7 (Conv2D)           (None, 32, 32, 64)        36928     \n",
            "                                                                 \n",
            " max_pooling2d_3 (MaxPoolin  (None, 16, 16, 64)        0         \n",
            " g2D)                                                            \n",
            "                                                                 \n",
            " dropout_4 (Dropout)         (None, 16, 16, 64)        0         \n",
            "                                                                 \n",
            " flatten_1 (Flatten)         (None, 16384)             0         \n",
            "                                                                 \n",
            " batch_normalization_11 (Ba  (None, 16384)             65536     \n",
            " tchNormalization)                                               \n",
            "                                                                 \n",
            " dense_3 (Dense)             (None, 512)               8389120   \n",
            "                                                                 \n",
            " dense_4 (Dense)             (None, 256)               131328    \n",
            "                                                                 \n",
            " dropout_5 (Dropout)         (None, 256)               0         \n",
            "                                                                 \n",
            " dense_5 (Dense)             (None, 9)                 2313      \n",
            "                                                                 \n",
            "=================================================================\n",
            "Total params: 8851489 (33.77 MB)\n",
            "Trainable params: 8818069 (33.64 MB)\n",
            "Non-trainable params: 33420 (130.55 KB)\n",
            "_________________________________________________________________\n"
          ]
        }
      ]
    },
    {
      "cell_type": "code",
      "source": [
        "from livelossplot.tf_keras import PlotLossesCallback\n",
        "\n",
        "\n",
        "history_aug = model_aug.fit_generator(\n",
        "    train_image_generator_aug,\n",
        "    epochs=EPOCHS,\n",
        "    steps_per_epoch=50,\n",
        "    validation_data=test_image_generator,\n",
        "    callbacks=[PlotLossesCallback(), checkpoint_aug, early_stopping_callback])"
      ],
      "metadata": {
        "id": "VEzcvD2ly7w8"
      },
      "execution_count": 1,
      "outputs": []
    },
    {
      "cell_type": "markdown",
      "source": [
        "Пробовала делать аугментацию по-разному, но не хватало всегда времени пользования Т4. Перешла на файнтьюнинг в следующем ноутбуке."
      ],
      "metadata": {
        "id": "Bz5l8cLUskmn"
      }
    },
    {
      "cell_type": "code",
      "source": [],
      "metadata": {
        "id": "ome7J5wqaEJK"
      },
      "execution_count": null,
      "outputs": []
    }
  ]
}